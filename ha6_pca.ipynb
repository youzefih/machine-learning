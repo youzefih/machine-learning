{
 "cells": [
  {
   "cell_type": "markdown",
   "metadata": {},
   "source": [
    "# CS596 Machine Learning \n",
    "# Homework Assignment 6 (Part 1): <br>EigenHand -- An application of principal component analysis (PCA) on image processing\n",
    "\n",
    "### Due 11:59 pm, Friday, 12/14/2018\n",
    "\n",
    "**Total credits: 5**\n",
    "\n",
    "In Part 1 of HA6, you will implement principal compomnent analysis (PCA) using numpy, and conduct some experiments that are similar to the \"eigenFace\" study introduced in the class. \n",
    "\n",
    "We use the sign language image data. What we are basically doing is to select the image data of one class (e.g., the sign for \"zero\"), and extract its principal components (PCs). Then we can visualize the data by reducing the dimension to the first 2 most dominant PCs. Also, given a new image, we can use its projections onto the PCs to determine whether it is a sign for \"zero\" or not."
   ]
  },
  {
   "cell_type": "code",
   "execution_count": 140,
   "metadata": {},
   "outputs": [],
   "source": [
    "import numpy as np\n",
    "import matplotlib.pyplot as plt\n",
    "\n",
    "%matplotlib inline"
   ]
  },
  {
   "cell_type": "markdown",
   "metadata": {},
   "source": [
    "### Load data\n",
    "\n",
    "Load data and preprocess.\n",
    "\n",
    "The dimension of data $X$ is $n\\times m$, in which $n=4096=64\\times64$ is the total number of pixels in an image, and $m=163$ is the number of examples."
   ]
  },
  {
   "cell_type": "code",
   "execution_count": 141,
   "metadata": {},
   "outputs": [
    {
     "name": "stdout",
     "output_type": "stream",
     "text": [
      "X shape: (4096, 163)\n"
     ]
    },
    {
     "data": {
      "image/png": "[encoded data removed]",
      "text/plain": [
       "<Figure size 576x288 with 3 Axes>"
      ]
     },
     "metadata": {
      "needs_background": "light"
     },
     "output_type": "display_data"
    }
   ],
   "source": [
    "X_all = np.load(open('X_train.npy', 'rb'))\n",
    "Y_all = np.load(open('Y_train.npy', 'rb'))\n",
    "# print(X_all.shape)\n",
    "# print(Y_all.shape)\n",
    "# print(Y_all[162,]) # y=0\n",
    "# print(Y_all[163,]) # y=1\n",
    "# print(Y_all[327,]) # y=2\n",
    "\n",
    "X_reshape = np.transpose(X_all, (1,2,3,0)).reshape(-1, X_all.shape[0])\n",
    "X = X_reshape[:, :163]\n",
    "print('X shape:', X.shape)\n",
    "\n",
    "# Print some sample images\n",
    "fig = plt.figure(figsize=(8, 4))\n",
    "for i, idx in enumerate([0, 50, 100]):\n",
    "    fig.add_subplot(1, 3, i+1)\n",
    "    img = X_all[idx,:,:,0]\n",
    "    plt.imshow(img, cmap='gray')\n",
    "    plt.axis('off')\n",
    "    plt.title('Sample image {}'.format(i+1))\n",
    "plt.show()"
   ]
  },
  {
   "cell_type": "markdown",
   "metadata": {},
   "source": [
    "## Task 1.1 Centerize data\n",
    "**0.5 credit**\n",
    "\n",
    "We need to centerize the data by subtracting $X$ from the mean values of each row. I.e., for each $i,j$, $X[i,j]=mean(X[i,:])$.\n",
    "\n",
    "This step is necessary before carrying out PCA. You may notice that in the slides we do a further normalization by dividing by the standard deviation after subtracting the means. In this homework, we do not use the divding step for the convenience of later reconstruction steps. Fortunately, not fullly normalizing the data will not harm PCA of image data.\n",
    "\n",
    "**Instructions:**\n",
    "- You can use `np.mean()` to compute the mean of each row, with argument `axis=1`\n",
    "- The result of computing `np.mean` on $X$ (of shape (n, m)) could be (n,), and that means you may need to reshape it to (n,1) before subtracting it from $X$."
   ]
  },
  {
   "cell_type": "code",
   "execution_count": 188,
   "metadata": {},
   "outputs": [
    {
     "name": "stdout",
     "output_type": "stream",
     "text": [
      "Shape of the centerized data: (4096, 163)\n",
      "First 5 elements of first row in X_tilde: [-0.01975209 -0.01583052  0.2939734   0.32534593 -0.0432815 ]\n",
      "First 5 elements of last row in X_tilde: [-0.06082091  0.01761046  0.08427715  0.23329675  0.00192419]\n"
     ]
    }
   ],
   "source": [
    "# Complete the code and run it to evaluate\n",
    "### START TODO ###\n",
    "X_tilde = np.mean(X,axis=1)\n",
    "X_tilde = X_tilde.reshape((4096,1))\n",
    "X_tilde = X - X_tilde\n",
    "### END TODO ###\n",
    "assert X.shape == X_tilde.shape\n",
    "print('Shape of the centerized data:', X_tilde.shape)\n",
    "print('First 5 elements of first row in X_tilde:', X_tilde[0,:5])\n",
    "print('First 5 elements of last row in X_tilde:', X_tilde[-1,:5])"
   ]
  },
  {
   "cell_type": "markdown",
   "metadata": {},
   "source": [
    "### Expected output\n",
    "\n",
    "|&nbsp;|&nbsp; |          \n",
    "|--|--|\n",
    "|**Shape of the centerized data:**| (4096, 163)|\n",
    "|**First 5 elements of first row in X_tilde:**|[-0.01975209 -0.01583052  0.2939734   0.32534593 -0.0432815 ]|\n",
    "|**First 5 elements of last row in X_tilde:**|[-0.06082091  0.01761046  0.08427715  0.23329675  0.00192419]|\n",
    "\n",
    "***\n",
    "\n",
    "## Task 1.2 Construct covariance matrix and compute eigenvectors\n",
    "**2 credit**\n",
    "\n",
    "The principal components of data can be obtained by computing the eigenvectors $u_i$ of the covariance matrix $\\frac{1}{m}\\tilde{X}\\tilde{X}^{T}$.\n",
    "\n",
    "However, the shape of $\\frac{1}{m}\\tilde{X}\\tilde{X}^{T}$ is $n\\times n$, and it will be slow to carry out eigen decomposition when $n$ is big (In our case, $n=64\\times 64=4096$). Therefore, we need to use an alternative way.\n",
    "\n",
    "The **solution** is that we first compute the eigenvectors $u'_i$ of the matrix $\\frac{1}{m}\\tilde{X}^{T}\\tilde{X}$ (of shape $m\\times m$), which satisfy the following equation:\n",
    "\n",
    "\n",
    "\\begin{equation}\n",
    "\\big(\\frac{1}{m}\\tilde{X}^{T}\\tilde{X}\\big)u'_i = \\lambda_i u'_i\n",
    "\\end{equation}\n",
    "\n",
    "\n",
    "where $\\lambda_i$ is the correponding non-zero eigenvalue. Note that $\\lambda_i/\\sum{\\lambda_i}$ measures the proportion of variance that the $i$th principal component explains.\n",
    "Because in our case $m=163$ is much smaller than $n=4096$, the computation for $u'_i$ is much faster. Then we can compute the eigenvectors of $\\frac{1}{m}\\tilde{X}\\tilde{X}^{T}$ by: $u_i = \\tilde{X}u'_i$. This is valid because of the following:\n",
    "\n",
    "\\begin{equation}\n",
    "\\big(\\frac{1}{m}\\tilde{X}^{T}\\tilde{X}\\big)u'_i = \\lambda_i u'_i \\Longrightarrow \\tilde{X}\\big(\\frac{1}{m}\\tilde{X}^{T}\\tilde{X}\\big)u'_i = \\tilde{X}\\lambda_i u'_i \\Longrightarrow \\big(\\frac{1}{m}\\tilde{X}\\tilde{X}^{T}\\big)(\\tilde{X}u'_i) = \\lambda_i (\\tilde{X}u'_i)\n",
    "\\end{equation}\n",
    "\n",
    "Of course we need to normalize $u_i$ by $u_i = \\frac{u_i}{||u_i||}$, so that it satisfy the $||u||=1$ constraint of principal components.\n",
    "\n",
    "**Instructions:**\n",
    "- You can compute the eigenvectors of a $m\\times m$ matrix by calling `numpy.linalg.eig()`. It returns two numpy arrays `w` and `v`, among which `w` contains $m$ eigenvalues, and `v` is a $m\\times m$ array whose ith column `v[:,i]` is the corresponding eigenvector of `w[i]`  \n",
    "- You can normalize a vector by calling `numpy.linalg.norm()`"
   ]
  },
  {
   "cell_type": "code",
   "execution_count": 256,
   "metadata": {},
   "outputs": [
    {
     "name": "stdout",
     "output_type": "stream",
     "text": [
      "PC1 explains 0.14315780997276306% of the total variance\n",
      "PC2 explains 0.07078765332698822% of the total variance\n",
      "First 100 PCs explains 0.9516127244579731% of the total variance\n",
      "\n",
      "Shape of U: (4096, 163)\n",
      "First 5 elements of first column of U: [0.01279446 0.01268982 0.01245681 0.01225439 0.01190459]\n",
      "First 5 elements of last column of U: [-0.00017422 -0.00012847 -0.00017408 -0.00019669 -0.00014081]\n"
     ]
    },
    {
     "data": {
      "image/png": "[encoded data removed]",
      "text/plain": [
       "<Figure size 576x288 with 3 Axes>"
      ]
     },
     "metadata": {
      "needs_background": "light"
     },
     "output_type": "display_data"
    }
   ],
   "source": [
    "# Complete the code and run it to evaluate\n",
    "\n",
    "### START TODO ###\n",
    "# Construct the covariance matrix for computing u'_i\n",
    "\n",
    "covmat = X_tilde.T.dot((X_tilde)) / X_tilde.shape[1]  \n",
    "# Compute u'_i, which is stored in the variable v\n",
    "w, v = np.linalg.eig(covmat)\n",
    "\n",
    "# Compute u_i from u'_i, and store it in the variable U\n",
    "U = X_tilde.dot(v)\n",
    "\n",
    "\n",
    "\n",
    "# Normalize u_i, i.e., each column of U\n",
    "U = U / np.linalg.norm(U)\n",
    "\n",
    "### END TODO ###\n",
    "\n",
    "\n",
    "# Evaluate eigenvalues\n",
    "ratios = w / np.sum(w)\n",
    "print('PC1 explains {}% of the total variance'.format(ratios[0]))\n",
    "print('PC2 explains {}% of the total variance'.format(ratios[1]))\n",
    "print('First 100 PCs explains {}% of the total variance'.format(sum(ratios[:100])))\n",
    "print()\n",
    "\n",
    "# Evaluate U\n",
    "print('Shape of U:', U.shape)\n",
    "print('First 5 elements of first column of U:', U[:5,0])\n",
    "print('First 5 elements of last column of U:', U[:5,-1])\n",
    "\n",
    "# Plot eigenvectors as if they are image data, i.e., eigenhands\n",
    "fig = plt.figure(figsize=(8, 4))\n",
    "for i in range(3):\n",
    "    img = U[:, i].reshape((64, 64))\n",
    "    fig.add_subplot(1, 3, i+1)\n",
    "    plt.imshow(img, cmap='gray')\n",
    "    plt.axis('off')\n",
    "    plt.title('PC' + str(i+1))\n",
    "plt.show()"
   ]
  },
  {
   "cell_type": "markdown",
   "metadata": {},
   "source": [
    "### Expected output\n",
    "\n",
    "|&nbsp;|\n",
    "|--|\n",
    "|PC1 explains 0.14315780997276306% of the total variance|\n",
    "|PC2 explains 0.07078766077756882% of the total variance|\n",
    "|First 100 PCs explains 0.951612749233579% of the total variance|\n",
    "\n",
    "|&nbsp;|&nbsp; |          \n",
    "|--|--|\n",
    "|**Shape of U:**| (4096, 163)|\n",
    "|**First 5 elements of first column of U:**|[0.03381537 0.03353881 0.03292298 0.03238798 0.03146345]|\n",
    "|**First 5 elements of last column of U:**|[-0.00672667 -0.00496044 -0.00672151 -0.00759426 -0.00543667]|\n",
    "\n",
    "<img src=\"eigenhands.png\">\n",
    "\n",
    "***\n",
    "\n",
    "\n",
    "## Task 1.3 Reduce dimension and visualize\n",
    "**0.5 credit**\n",
    "\n",
    "After we have obtained all the principal components, we can conduct dimensionality reduction by project the original data to a selected set of PCs. For visualization purpose, we select the top two PCs, and reduce the data to a 2-D space.\n",
    "\n",
    "Let $u_1$ and $u_2$ the 1st and 2nd columns of matrix `U`, the projection of an image data $\\tilde{x}$ (already centerized) can be done by computing the inner products $y_1 = u_1^T\\tilde{x}$ and $y_2 = u_2^T\\tilde{x}$. Then you can visualize the data using the scatter plot of $y_1$ and $y_2$.\n",
    "\n",
    "**Instructions:**\n",
    "- Select the first two PCs by `U[:,:2]`, and then use `numpy.dot()` to compute the inner product with $\\tilde{X}$.\n",
    "- `Y` is of shape $2\\times m$."
   ]
  },
  {
   "cell_type": "code",
   "execution_count": 257,
   "metadata": {},
   "outputs": [
    {
     "name": "stdout",
     "output_type": "stream",
     "text": [
      "Shape of Y: (2, 163)\n",
      "First 5 elements of first row of Y: [-0.33727938  0.17739064  2.2705967   2.781038    0.3828631 ]\n",
      "First 5 elements of second row of Y: [ 0.22550604  0.28164893 -1.5622808  -0.33656713  0.8245233 ]\n"
     ]
    },
    {
     "data": {
      "image/png": "[encoded data removed]",
      "text/plain": [
       "<Figure size 432x288 with 1 Axes>"
      ]
     },
     "metadata": {
      "needs_background": "light"
     },
     "output_type": "display_data"
    }
   ],
   "source": [
    "# Complete the code and run it to evaluate\n",
    "\n",
    "### START TODO ###\n",
    "Y = U[:,:2].T.dot(X_tilde)\n",
    "### END TODO\n",
    "\n",
    "\n",
    "print('Shape of Y:', Y.shape)\n",
    "print('First 5 elements of first row of Y:', Y[0,:5])\n",
    "print('First 5 elements of second row of Y:', Y[1,:5])\n",
    "\n",
    "fig = plt.figure()\n",
    "plt.scatter(Y[0,:], Y[1,:])\n",
    "plt.show()"
   ]
  },
  {
   "cell_type": "markdown",
   "metadata": {},
   "source": [
    "### Expected output\n",
    "\n",
    "|&nbsp;|&nbsp; |          \n",
    "|--|--|\n",
    "|**Shape of Y:**|(2, 163)|\n",
    "|**First 5 elements of first row of Y:**|[-0.89141893  0.46883804  6.0011144   7.3501954   1.0118954 ]|\n",
    "|**First 5 elements of second row of Y:**|[ 0.8475754  1.0585912 -5.8719096 -1.2650039  3.09901  ]|\n",
    "\n",
    "<img src=\"2d.png\">\n",
    "\n",
    "***\n",
    "\n",
    "## Task 1.4 Project and reconstruct\n",
    "**2 credit**\n",
    "\n",
    "We can not only project data onto principal components to reduce dimensions, but also use the projections to reconstruct data. \n",
    "\n",
    "Let $\\tilde{x}$ be the original data, and its projections on the first $k$ PCs are: $p_1 = u_1^T\\tilde{x},p_2 = u_2^T\\tilde{x},\\dots,p_k = u_k^T\\tilde{x}$. Then we can have the reconstruction of data $\\tilde{x}'$ by:\n",
    "\n",
    "\\begin{equation}\n",
    "\\tilde{x}' = p_1\\cdot u_1 + p_2\\cdot u_2 + \\dots + p_k\\cdot u_k\n",
    "\\end{equation}\n",
    "\n",
    "If the full set of PCs are used, then the reconstruction will be perfect, i.e., exactly the same as the original image without losing any informaiton. If a subset (e.g., top $k$ PCs) is used, then the reconstruction will cause some information loss. \n",
    "\n",
    "This information loss can be measured by the Euclidean distance between the original data $\\tilde{x}$ and the reconstruted data $\\tilde{x}'$. Larger distance indicates higher information loss.\n",
    "\n",
    "**Instructions:**\n",
    "- Use `numpy.dot()` to compute projections and reconstructions.\n",
    "- Use `numpy.linalg.norm()` to compute distance."
   ]
  },
  {
   "cell_type": "code",
   "execution_count": 361,
   "metadata": {},
   "outputs": [],
   "source": [
    "# Project and reconstruct\n",
    "def project_reconstruct(X, U, num_dims):\n",
    "    \n",
    "    \"\"\"\n",
    "    Args:\n",
    "    X -- centerized image data, of shape (n, m)\n",
    "    U -- numpy array containing principal components, of shape (n, m)\n",
    "    num_dims -- the number of PCs upon which to project X.\n",
    "    \n",
    "    Return:\n",
    "    X_proj -- projections on the top num_dims PCs, of shape (num_dims, m)\n",
    "    X_recon -- reconstructed data, of shape (n, m)\n",
    "    dist -- Euclidean distance between X and X_recon, of shape (m,)\n",
    "    \"\"\"\n",
    "    assert num_dims <= U.shape[1]\n",
    "    assert X.shape[0] == U.shape[0]\n",
    "    ### START TODO ###\n",
    "    X_proj = np.dot(U.T,X)\n",
    "    X_recon = np.dot(U,X_proj.T)\n",
    "    dist = X[i,:] / np.linalg.norm(X_recon)\n",
    "    ### END TODO ###\n",
    "    \n",
    "    return X_proj, X_recon, dist"
   ]
  },
  {
   "cell_type": "code",
   "execution_count": 362,
   "metadata": {},
   "outputs": [
    {
     "name": "stdout",
     "output_type": "stream",
     "text": [
      "dist:  (163,)\n",
      "Mean distance of reconstruction using 163 PCs: 5.850762718750957e-08\n",
      "dist:  (163,)\n",
      "Mean distance of reconstruction using 100 PCs: 1.1701525437501914e-07\n",
      "dist:  (163,)\n",
      "Mean distance of reconstruction using 50 PCs: 1.8868709616981505e-07\n"
     ]
    },
    {
     "data": {
      "image/png": "[encoded data removed]",
      "text/plain": [
       "<Figure size 864x432 with 4 Axes>"
      ]
     },
     "metadata": {
      "needs_background": "light"
     },
     "output_type": "display_data"
    }
   ],
   "source": [
    "# Evaluate Task 1.4\n",
    "fig = plt.figure(figsize=(12, 6))\n",
    "fig.add_subplot(1, 4, 1)\n",
    "img_orig = X_tilde[:,0].reshape((64, 64))\n",
    "plt.imshow(img_orig, cmap='gray')\n",
    "plt.axis('off')\n",
    "plt.title('Original')\n",
    "\n",
    "for i, num_dims in enumerate([163, 100, 50]):\n",
    "    X_proj, X_recon, dist = project_reconstruct(X_tilde, U, num_dims)\n",
    "    print('Mean distance of reconstruction using {} PCs: {}'.format(num_dims, np.mean(dist)))\n",
    "    \n",
    "    fig.add_subplot(1, 4, i+2)\n",
    "    img_recon = X_recon[:,0].reshape((64, 64))\n",
    "    plt.imshow(img_recon, cmap='gray')\n",
    "    plt.axis('off')\n",
    "    plt.title('Recon using {} PCs'.format(num_dims))\n",
    "    \n",
    "plt.show()"
   ]
  },
  {
   "cell_type": "markdown",
   "metadata": {},
   "source": [
    "### Expected output\n",
    "\n",
    "|&nbsp;|&nbsp; |          \n",
    "|--|--|\n",
    "|**Mean distance of reconstruction using 163 PCs:**| 0.00334941572509706|\n",
    "|**Mean distance of reconstruction using 100 PCs:**| 1.7380056381225586|\n",
    "|**Mean distance of reconstruction using 50 PCs:**| 3.1700222492218018|\n",
    "\n",
    "<img src=\"reconstruction.png\">\n",
    "\n",
    "***\n",
    "\n",
    "## New image detection (Ungraded)\n",
    "\n",
    "Given a new image of the sign for a different number, if we project it onto the PCs that we extracted above, then the reconstruction distance will be very large, and the reconstructed image will not likely be recognizable. This is because the principal components summarize current image class well, but not apply to images of different classes. \n",
    "\n",
    "This is also how PCA can be used in applications such as face detection etc."
   ]
  },
  {
   "cell_type": "code",
   "execution_count": null,
   "metadata": {},
   "outputs": [],
   "source": [
    "# Project and reconstruct one instance of new data\n",
    "x_new = X_reshape[:, 163]\n",
    "x_new_tilde = x_new - np.mean(X, axis=1)\n",
    "\n",
    "_, x_new_recon, dist = project_reconstruct(x_new_tilde, U, 163)\n",
    "print('Reconstruction distance for out-of-class data:', dist)\n",
    "\n",
    "# Plot\n",
    "fig = plt.figure(figsize=(6, 3))\n",
    "\n",
    "fig.add_subplot(1, 2, 1)\n",
    "img_orig = x_new_tilde.reshape((64, 64))\n",
    "plt.imshow(img_orig, cmap='gray')\n",
    "plt.axis('off')\n",
    "plt.title('Original')\n",
    "\n",
    "fig.add_subplot(1, 2, 2)\n",
    "img_recon = x_new_recon.reshape((64, 64))\n",
    "plt.imshow(img_recon, cmap='gray')\n",
    "plt.axis('off')\n",
    "plt.title('Recon using 163 PCs')\n",
    "\n",
    "plt.show()"
   ]
  },
  {
   "cell_type": "code",
   "execution_count": null,
   "metadata": {},
   "outputs": [],
   "source": []
  }
 ],
 "metadata": {
  "kernelspec": {
   "display_name": "Python 3",
   "language": "python",
   "name": "python3"
  },
  "language_info": {
   "codemirror_mode": {
    "name": "ipython",
    "version": 3
   },
   "file_extension": ".py",
   "mimetype": "text/x-python",
   "name": "python",
   "nbconvert_exporter": "python",
   "pygments_lexer": "ipython3",
   "version": "3.6.5"
  }
 },
 "nbformat": 4,
 "nbformat_minor": 2
}
